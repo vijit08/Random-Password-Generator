{
 "cells": [
  {
   "cell_type": "code",
   "execution_count": 1,
   "id": "502e3aa7",
   "metadata": {},
   "outputs": [],
   "source": [
    "#PASSWORD GENERATOR (USING TKINTER)\n",
    "\n",
    "import tkinter\n",
    "from tkinter import *\n",
    "root=Tk()\n",
    "root.geometry(\"634x434\")\n",
    "root.title(\"PASSWORD GENERATOR\")\n",
    "\n",
    "\n",
    "import random\n",
    "from random import choice\n",
    "global s\n",
    "s=\"ddmnejdbabdjabdja%%!$@!#@$!$$%GF@$!$!$$!$4133412557\"\n",
    "\n",
    "def gen():\n",
    "    for i in range(1,9):\n",
    "        d=choice(s[1:])\n",
    "                      \n",
    "        Label(root,text=d).pack()\n",
    "\n",
    "#GENERATE A PASSWORD\n",
    "Button(root,text=\"GENERATE\",command=gen).pack()       \n",
    "root.mainloop()"
   ]
  },
  {
   "cell_type": "code",
   "execution_count": 3,
   "id": "9a16d436",
   "metadata": {},
   "outputs": [
    {
     "name": "stdout",
     "output_type": "stream",
     "text": [
      "1b@!$%n!"
     ]
    }
   ],
   "source": [
    "#PASSWORD GENERATOR (WITHOUT USING TKINTER)\n",
    "\n",
    "import random\n",
    "from random import choice\n",
    "global s\n",
    "s=\"ddmnejdbabdjabdja%%!$@!#@$!$$%GF@$!$!$$!$4133412557\"\n",
    "\n",
    "def gen():\n",
    "    for i in range(1,9):\n",
    "        d=choice(s[1:])\n",
    "        print(d,end=\"\")\n",
    "gen()"
   ]
  },
  {
   "cell_type": "code",
   "execution_count": 4,
   "id": "381cc1eb",
   "metadata": {},
   "outputs": [
    {
     "name": "stdout",
     "output_type": "stream",
     "text": [
      "ENTER NO OF PEOPLE YOU WANT TO GENERATE PASSWORD FOR:2\n",
      "\n",
      "ENTER NAME:\n",
      "VIJIT\n",
      "RANDOM PASSWORD FOR GIVEN PERSON IS:jj7%!$G$4\n",
      "ENTER NAME:\n",
      "ASHU\n",
      "RANDOM PASSWORD FOR GIVEN PERSON IS:@!m$!23!d"
     ]
    }
   ],
   "source": [
    "#PASSWORD GENERATOR (FOR MORE THAN 1 PERSON)\n",
    "random\n",
    "from random import choice\n",
    "import getpass\n",
    "global s,d,c\n",
    "s=\"ddmnejdbabdjabdja%%!$@!#@$!$$%GF@$!$!$$!$4133412557\"\n",
    "\n",
    "def p():\n",
    "    for j in range(0,9):\n",
    "        d=choice(s[1:])\n",
    "        print(d,end=\"\")\n",
    "        \n",
    "    \n",
    "        \n",
    "def name():\n",
    "    l=[]\n",
    "    c=input(\"\\nENTER NAME:\\n\")\n",
    "    \n",
    "\n",
    "        \n",
    "        \n",
    "ch=int(input(\"ENTER NO OF PEOPLE YOU WANT TO GENERATE PASSWORD FOR:\"))      \n",
    "        \n",
    "for j in range(ch):\n",
    "    d={}\n",
    "    name()\n",
    "    print(\"RANDOM PASSWORD FOR GIVEN PERSON IS:\",end=\"\")\n",
    "    p()\n",
    "\n",
    "\n",
    "    "
   ]
  },
  {
   "cell_type": "code",
   "execution_count": null,
   "id": "1c2e6402",
   "metadata": {},
   "outputs": [],
   "source": []
  }
 ],
 "metadata": {
  "kernelspec": {
   "display_name": "Python 3",
   "language": "python",
   "name": "python3"
  },
  "language_info": {
   "codemirror_mode": {
    "name": "ipython",
    "version": 3
   },
   "file_extension": ".py",
   "mimetype": "text/x-python",
   "name": "python",
   "nbconvert_exporter": "python",
   "pygments_lexer": "ipython3",
   "version": "3.8.8"
  }
 },
 "nbformat": 4,
 "nbformat_minor": 5
}
